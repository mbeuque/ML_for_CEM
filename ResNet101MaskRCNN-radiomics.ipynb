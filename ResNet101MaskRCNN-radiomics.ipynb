{
 "cells": [
  {
   "cell_type": "markdown",
   "metadata": {},
   "source": [
    "## Load necessary modules"
   ]
  },
  {
   "cell_type": "code",
   "execution_count": null,
   "metadata": {
    "scrolled": true
   },
   "outputs": [],
   "source": [
    "# show images inline\n",
    "%matplotlib inline\n",
    "\n",
    "# automatically reload modules when they have changed\n",
    "%load_ext autoreload\n",
    "%autoreload 2\n",
    "\n",
    "# import keras\n",
    "import keras\n",
    "import os\n",
    "\n",
    "# import keras_retinanet\n",
    "from keras_maskrcnn import models\n",
    "from keras_maskrcnn.utils.visualization import draw_mask\n",
    "from keras_retinanet.utils.visualization import draw_box, draw_caption, draw_annotations\n",
    "from keras_retinanet.utils.image import read_image_bgr, preprocess_image, resize_image\n",
    "from keras_retinanet.utils.colors import label_color\n",
    "from keras_retinanet.utils.gpu import setup_gpu\n",
    "\n",
    "from keras_maskrcnn.bin.train import create_models\n",
    "\n",
    "\n",
    "import argparse\n",
    "import sys\n",
    "import keras_retinanet\n",
    "\n",
    "from keras_maskrcnn.preprocessing import csv_generator\n",
    "import pandas as pd\n",
    "\n",
    "from keras_retinanet.utils.transform import random_transform_generator\n",
    "from keras_retinanet.utils.image import random_visual_effect_generator\n",
    "\n",
    "from keras_maskrcnn.bin.train import create_callbacks\n",
    "from keras_maskrcnn.bin.train import parse_args\n",
    "from keras_retinanet.callbacks import RedirectModel\n",
    "from keras_maskrcnn.callbacks.eval import Evaluate\n",
    "from keras_retinanet.models.retinanet import retinanet_bbox\n",
    "\n",
    "# import miscellaneous modules\n",
    "import matplotlib.pyplot as plt\n",
    "import cv2\n",
    "import numpy as np\n",
    "import time\n",
    "import pyximport\n",
    "pyximport.install()\n",
    "os.environ[\"CUDA_VISIBLE_DEVICES\"] = '0'\n",
    "# set tf backend to allow memory to grow, instead of claiming everything\n",
    "import tensorflow as tf\n",
    "keras.backend.tensorflow_backend._get_available_gpus()\n"
   ]
  },
  {
   "cell_type": "code",
   "execution_count": null,
   "metadata": {},
   "outputs": [],
   "source": [
    "import keras_maskrcnn\n"
   ]
  },
  {
   "cell_type": "code",
   "execution_count": null,
   "metadata": {},
   "outputs": [],
   "source": [
    "#tf.__version__:'1.13.1'"
   ]
  },
  {
   "cell_type": "markdown",
   "metadata": {},
   "source": [
    "## Load RetinaNet model"
   ]
  },
  {
   "cell_type": "code",
   "execution_count": null,
   "metadata": {},
   "outputs": [],
   "source": [
    "# adjust this to point to your downloaded/trained model\n",
    "# models can be downloaded here: https://github.com/fizyr/keras-retinanet/releases\n",
    "model_path = 'prediction_model_train_on_recombined_images.h5'\n",
    "\n",
    "\n",
    "# load label to names mapping for visualization purposes\n",
    "labels_to_names = {0:'benign',1:'malignant'}"
   ]
  },
  {
   "cell_type": "code",
   "execution_count": null,
   "metadata": {},
   "outputs": [],
   "source": [
    "train_csv = \"annotations_train_dataset.csv\"\n",
    "test_csv = \"annotations_test_dataset.csv\""
   ]
  },
  {
   "cell_type": "code",
   "execution_count": null,
   "metadata": {},
   "outputs": [],
   "source": [
    "train_df = pd.read_csv(train_csv)\n",
    "test_df = pd.read_csv(test_csv)\n",
    "external_df = pd.read_csv(\"external_validation.csv\")"
   ]
  },
  {
   "cell_type": "code",
   "execution_count": null,
   "metadata": {},
   "outputs": [],
   "source": [
    "batch_size = 1\n",
    "\n",
    "transform_generator = random_transform_generator(\n",
    "            min_shear=-0.1,\n",
    "            max_shear=0.1,\n",
    "            min_scaling=(0.9, 0.9),\n",
    "            max_scaling=(1.1, 1.1),\n",
    "            flip_x_chance=0,\n",
    "            flip_y_chance=0.5\n",
    "        )\n",
    "\n",
    "train_generator = csv_generator.CSVGenerator(\n",
    "    train_csv,\n",
    "    transform_generator = transform_generator,\n",
    "    csv_class_file=r'E:\\ManonData\\keras-retinanet-master\\classes.csv',\n",
    "    base_dir='.',\n",
    "    batch_size=batch_size)\n",
    "validation_generator = csv_generator.CSVGenerator(\n",
    "    test_csv,\n",
    "    csv_class_file=r'E:\\ManonData\\keras-retinanet-master\\classes.csv', \n",
    "    base_dir='.',\n",
    "    batch_size=batch_size)"
   ]
  },
  {
   "cell_type": "code",
   "execution_count": null,
   "metadata": {
    "scrolled": true
   },
   "outputs": [],
   "source": [
    "backbone = models.backbone(\"resnet101\")\n",
    "weights_for_resnet101 = \"ResNet-101-model.keras.h5\"\n",
    "model, training_model, prediction_model = create_models(backbone_retinanet=backbone.maskrcnn, num_classes=2, weights=weights_for_resnet101, freeze_backbone=False)"
   ]
  },
  {
   "cell_type": "code",
   "execution_count": null,
   "metadata": {},
   "outputs": [],
   "source": [
    "def create_callbacks_v2(model, training_model, prediction_model, validation_generator, create_evaluation=Evaluate):\n",
    "    callbacks = []\n",
    "\n",
    "    # save the model\n",
    "    snapshot_path = 'weights_mask_rcnn'\n",
    "    # ensure directory created first; otherwise h5py will error after epoch.\n",
    "    #os.makedirs(snapshot_path)\n",
    "    checkpoint = keras.callbacks.ModelCheckpoint(\n",
    "        os.path.join(\n",
    "            snapshot_path,\n",
    "            '{backbone}_{dataset_type}_{{epoch:02d}}.h5'.format(backbone='resnet101', dataset_type='pre-processed_sergey')\n",
    "        ),\n",
    "        verbose=1,\n",
    "        # save_best_only=True,\n",
    "        # monitor=\"mAP\",\n",
    "        # mode='max'\n",
    "    )\n",
    "    checkpoint = RedirectModel(checkpoint, model)\n",
    "    callbacks.append(checkpoint)\n",
    "\n",
    "    tensorboard_callback = None\n",
    "\n",
    "    tensorboard_callback = keras.callbacks.TensorBoard(\n",
    "        log_dir                = './logs',\n",
    "        histogram_freq         = 0,\n",
    "        batch_size             = 1,\n",
    "        write_graph            = True,\n",
    "        write_grads            = False,\n",
    "        write_images           = False,\n",
    "        embeddings_freq        = 0,\n",
    "        embeddings_layer_names = None,\n",
    "        embeddings_metadata    = None\n",
    "    )\n",
    "    callbacks.append(tensorboard_callback)\n",
    "\n",
    "    # use prediction model for evaluation\n",
    "    evaluation = create_evaluation(validation_generator, tensorboard=tensorboard_callback, weighted_average=True)\n",
    "    \n",
    "    evaluation = RedirectModel(evaluation, prediction_model)\n",
    "    callbacks.append(evaluation)\n",
    "\n",
    "    callbacks.append(keras.callbacks.ReduceLROnPlateau(\n",
    "        monitor  = 'loss',\n",
    "        factor   = 0.5,\n",
    "        patience = 2,\n",
    "        verbose  = 1,\n",
    "        mode     = 'auto',\n",
    "        epsilon  = 0.0001,\n",
    "        cooldown = 2,\n",
    "        min_lr   = 1e-7\n",
    "    ))\n",
    "\n",
    "    return callbacks"
   ]
  },
  {
   "cell_type": "code",
   "execution_count": null,
   "metadata": {},
   "outputs": [],
   "source": [
    "callbacks = create_callbacks_v2(\n",
    "    model,\n",
    "    training_model,\n",
    "    prediction_model,\n",
    "    validation_generator,\n",
    "    #setup args see setup gpus\n",
    ")"
   ]
  },
  {
   "cell_type": "code",
   "execution_count": null,
   "metadata": {},
   "outputs": [],
   "source": [
    "training_model.compile(\n",
    "    loss={\n",
    "        'regression'    : keras_retinanet.losses.smooth_l1(),\n",
    "        'classification': keras_retinanet.losses.focal(),\n",
    "        'masks': keras_maskrcnn.losses.mask()\n",
    "    },\n",
    "    optimizer=keras.optimizers.Adam(lr=1e-5)\n",
    ")"
   ]
  },
  {
   "cell_type": "code",
   "execution_count": null,
   "metadata": {
    "scrolled": true
   },
   "outputs": [],
   "source": [
    "training_model.fit_generator(train_generator,\n",
    "                    epochs=30,\n",
    "                    verbose=1,\n",
    "                    callbacks = callbacks,\n",
    "                    steps_per_epoch=1507//batch_size,\n",
    "                    validation_data=validation_generator,\n",
    "                    #use_multiprocessing=True,\n",
    "                    validation_steps = 391//batch_size)"
   ]
  }
 ],
 "metadata": {
  "kernelspec": {
   "display_name": "Python 3",
   "language": "python",
   "name": "python3"
  },
  "language_info": {
   "codemirror_mode": {
    "name": "ipython",
    "version": 3
   },
   "file_extension": ".py",
   "mimetype": "text/x-python",
   "name": "python",
   "nbconvert_exporter": "python",
   "pygments_lexer": "ipython3",
   "version": "3.7.3"
  }
 },
 "nbformat": 4,
 "nbformat_minor": 2
}
